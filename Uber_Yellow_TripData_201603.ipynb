{
  "nbformat": 4,
  "nbformat_minor": 0,
  "metadata": {
    "colab": {
      "provenance": [],
      "authorship_tag": "ABX9TyOSvsPQHRuvLaMQHlKvNTU6",
      "include_colab_link": true
    },
    "kernelspec": {
      "name": "python3",
      "display_name": "Python 3"
    },
    "language_info": {
      "name": "python"
    }
  },
  "cells": [
    {
      "cell_type": "markdown",
      "metadata": {
        "id": "view-in-github",
        "colab_type": "text"
      },
      "source": [
        "<a href=\"https://colab.research.google.com/github/arpitsharma27/PythonGames/blob/main/Uber_Yellow_TripData_201603.ipynb\" target=\"_parent\"><img src=\"https://colab.research.google.com/assets/colab-badge.svg\" alt=\"Open In Colab\"/></a>"
      ]
    },
    {
      "cell_type": "markdown",
      "source": [
        "Data Dictionary: https://www.nyc.gov/assets/tlc/downloads/pdf/data_dictionary_trip_records_yellow.pdf\n"
      ],
      "metadata": {
        "id": "VBk3vllUkEG2"
      }
    },
    {
      "cell_type": "code",
      "execution_count": 1,
      "metadata": {
        "id": "qeXhtGGcUK2W"
      },
      "outputs": [],
      "source": [
        "import pandas as pd"
      ]
    },
    {
      "cell_type": "code",
      "source": [
        "! pip install kaggle"
      ],
      "metadata": {
        "colab": {
          "base_uri": "https://localhost:8080/"
        },
        "id": "bpn3fR6tUMlF",
        "outputId": "6fa9cb3f-5ca1-495d-91f5-138f5898ed54"
      },
      "execution_count": 5,
      "outputs": [
        {
          "output_type": "stream",
          "name": "stdout",
          "text": [
            "Requirement already satisfied: kaggle in /usr/local/lib/python3.10/dist-packages (1.5.16)\n",
            "Requirement already satisfied: six>=1.10 in /usr/local/lib/python3.10/dist-packages (from kaggle) (1.16.0)\n",
            "Requirement already satisfied: certifi in /usr/local/lib/python3.10/dist-packages (from kaggle) (2023.7.22)\n",
            "Requirement already satisfied: python-dateutil in /usr/local/lib/python3.10/dist-packages (from kaggle) (2.8.2)\n",
            "Requirement already satisfied: requests in /usr/local/lib/python3.10/dist-packages (from kaggle) (2.31.0)\n",
            "Requirement already satisfied: tqdm in /usr/local/lib/python3.10/dist-packages (from kaggle) (4.65.0)\n",
            "Requirement already satisfied: python-slugify in /usr/local/lib/python3.10/dist-packages (from kaggle) (8.0.1)\n",
            "Requirement already satisfied: urllib3 in /usr/local/lib/python3.10/dist-packages (from kaggle) (1.26.16)\n",
            "Requirement already satisfied: bleach in /usr/local/lib/python3.10/dist-packages (from kaggle) (6.0.0)\n",
            "Requirement already satisfied: webencodings in /usr/local/lib/python3.10/dist-packages (from bleach->kaggle) (0.5.1)\n",
            "Requirement already satisfied: text-unidecode>=1.3 in /usr/local/lib/python3.10/dist-packages (from python-slugify->kaggle) (1.3)\n",
            "Requirement already satisfied: charset-normalizer<4,>=2 in /usr/local/lib/python3.10/dist-packages (from requests->kaggle) (3.2.0)\n",
            "Requirement already satisfied: idna<4,>=2.5 in /usr/local/lib/python3.10/dist-packages (from requests->kaggle) (3.4)\n"
          ]
        }
      ]
    },
    {
      "cell_type": "code",
      "source": [
        "from google.colab import drive\n",
        "drive.mount('/content/drive')"
      ],
      "metadata": {
        "colab": {
          "base_uri": "https://localhost:8080/"
        },
        "id": "3xVfT-WKYgnn",
        "outputId": "b0e7d8d8-3f02-4671-b7d0-61ad8f6faf61"
      },
      "execution_count": 3,
      "outputs": [
        {
          "output_type": "stream",
          "name": "stdout",
          "text": [
            "Mounted at /content/drive\n"
          ]
        }
      ]
    },
    {
      "cell_type": "code",
      "source": [
        "! mkdir ~/.kaggle"
      ],
      "metadata": {
        "colab": {
          "base_uri": "https://localhost:8080/"
        },
        "id": "P-8Vx3mgaony",
        "outputId": "b3481ec9-67ac-4054-a2c0-f626776cccfa"
      },
      "execution_count": 10,
      "outputs": [
        {
          "output_type": "stream",
          "name": "stdout",
          "text": [
            "mkdir: cannot create directory ‘/root/.kaggle’: File exists\n"
          ]
        }
      ]
    },
    {
      "cell_type": "code",
      "source": [
        "!cp /content/drive/MyDrive/API/kaggle.json ~/.kaggle/kaggle.json"
      ],
      "metadata": {
        "id": "MelxFj_Rcll8"
      },
      "execution_count": 12,
      "outputs": []
    },
    {
      "cell_type": "code",
      "source": [
        "! chmod 600 ~/.kaggle/kaggle.json"
      ],
      "metadata": {
        "id": "LPUdAumKc1oL"
      },
      "execution_count": 13,
      "outputs": []
    },
    {
      "cell_type": "code",
      "source": [
        "!kaggle datasets download psvishnu/nyc-yellow-taxi-trip-records -f yellow_tripdata_2016-03.parquet"
      ],
      "metadata": {
        "colab": {
          "base_uri": "https://localhost:8080/"
        },
        "id": "tQQPPdgic5Q7",
        "outputId": "bcacc2cf-c5fc-475d-8cf4-41cc690a1846"
      },
      "execution_count": 20,
      "outputs": [
        {
          "output_type": "stream",
          "name": "stdout",
          "text": [
            "404 - Not Found - Not found\n"
          ]
        }
      ]
    },
    {
      "cell_type": "code",
      "source": [
        "!kaggle datasets download -d yellow_tripdata_2016-03.parquet -p /content/drive/"
      ],
      "metadata": {
        "colab": {
          "base_uri": "https://localhost:8080/"
        },
        "id": "Viyxe4X5fek7",
        "outputId": "c2e2b5fa-0a18-46a1-acac-fe5cdf26befd"
      },
      "execution_count": 26,
      "outputs": [
        {
          "output_type": "stream",
          "name": "stdout",
          "text": [
            "not enough values to unpack (expected 3, got 2)\n"
          ]
        }
      ]
    },
    {
      "cell_type": "markdown",
      "source": [],
      "metadata": {
        "id": "w2AKZ6KkkCJv"
      }
    },
    {
      "cell_type": "code",
      "source": [
        "df=pd.read_parquet('/content/drive/MyDrive/API/Kaggle_NYC_Yellow_Taxi_Trip_Records/yellow_tripdata_2016-03.parquet')\n",
        "df.to_csv('yellow_tripdata_201603.csv')"
      ],
      "metadata": {
        "id": "IyBV7r7EeXP9"
      },
      "execution_count": 4,
      "outputs": []
    },
    {
      "cell_type": "code",
      "source": [
        "df.head()"
      ],
      "metadata": {
        "colab": {
          "base_uri": "https://localhost:8080/",
          "height": 270
        },
        "id": "b7IRs75sinaz",
        "outputId": "1a57e983-b31c-47d3-9b1f-c18b030ea169"
      },
      "execution_count": 5,
      "outputs": [
        {
          "output_type": "execute_result",
          "data": {
            "text/plain": [
              "   VendorID tpep_pickup_datetime tpep_dropoff_datetime  passenger_count  \\\n",
              "0         1  2016-03-01 00:53:35   2016-03-01 00:57:11                1   \n",
              "1         1  2016-03-01 00:15:13   2016-03-01 00:15:26                1   \n",
              "2         1  2016-03-01 00:15:46   2016-03-01 00:16:00                1   \n",
              "3         1  2016-03-01 00:16:17   2016-03-01 00:16:23                1   \n",
              "4         1  2016-03-01 00:16:45   2016-03-01 00:18:14                1   \n",
              "\n",
              "   trip_distance  RatecodeID store_and_fwd_flag  PULocationID  DOLocationID  \\\n",
              "0            0.0           1                  N           226           226   \n",
              "1            0.0           1                  N           145           145   \n",
              "2            0.0           1                  N           145           145   \n",
              "3            0.0           1                  N           145           145   \n",
              "4            0.0           1                  N           145           145   \n",
              "\n",
              "   payment_type  fare_amount  extra  mta_tax  tip_amount  tolls_amount  \\\n",
              "0             3          4.0    0.5      0.5         0.0           0.0   \n",
              "1             2          2.5    0.5      0.5         0.0           0.0   \n",
              "2             2          2.5    0.5      0.5         0.0           0.0   \n",
              "3             2          2.5    0.5      0.5         0.0           0.0   \n",
              "4             2          3.0    0.5      0.5         0.0           0.0   \n",
              "\n",
              "   improvement_surcharge  total_amount congestion_surcharge airport_fee  \n",
              "0                    0.3           5.3                 None        None  \n",
              "1                    0.3           3.8                 None        None  \n",
              "2                    0.3           3.8                 None        None  \n",
              "3                    0.3           3.8                 None        None  \n",
              "4                    0.3           4.3                 None        None  "
            ],
            "text/html": [
              "\n",
              "\n",
              "  <div id=\"df-f0f3ec11-6753-4cb0-bc2c-046d8e15d2b9\">\n",
              "    <div class=\"colab-df-container\">\n",
              "      <div>\n",
              "<style scoped>\n",
              "    .dataframe tbody tr th:only-of-type {\n",
              "        vertical-align: middle;\n",
              "    }\n",
              "\n",
              "    .dataframe tbody tr th {\n",
              "        vertical-align: top;\n",
              "    }\n",
              "\n",
              "    .dataframe thead th {\n",
              "        text-align: right;\n",
              "    }\n",
              "</style>\n",
              "<table border=\"1\" class=\"dataframe\">\n",
              "  <thead>\n",
              "    <tr style=\"text-align: right;\">\n",
              "      <th></th>\n",
              "      <th>VendorID</th>\n",
              "      <th>tpep_pickup_datetime</th>\n",
              "      <th>tpep_dropoff_datetime</th>\n",
              "      <th>passenger_count</th>\n",
              "      <th>trip_distance</th>\n",
              "      <th>RatecodeID</th>\n",
              "      <th>store_and_fwd_flag</th>\n",
              "      <th>PULocationID</th>\n",
              "      <th>DOLocationID</th>\n",
              "      <th>payment_type</th>\n",
              "      <th>fare_amount</th>\n",
              "      <th>extra</th>\n",
              "      <th>mta_tax</th>\n",
              "      <th>tip_amount</th>\n",
              "      <th>tolls_amount</th>\n",
              "      <th>improvement_surcharge</th>\n",
              "      <th>total_amount</th>\n",
              "      <th>congestion_surcharge</th>\n",
              "      <th>airport_fee</th>\n",
              "    </tr>\n",
              "  </thead>\n",
              "  <tbody>\n",
              "    <tr>\n",
              "      <th>0</th>\n",
              "      <td>1</td>\n",
              "      <td>2016-03-01 00:53:35</td>\n",
              "      <td>2016-03-01 00:57:11</td>\n",
              "      <td>1</td>\n",
              "      <td>0.0</td>\n",
              "      <td>1</td>\n",
              "      <td>N</td>\n",
              "      <td>226</td>\n",
              "      <td>226</td>\n",
              "      <td>3</td>\n",
              "      <td>4.0</td>\n",
              "      <td>0.5</td>\n",
              "      <td>0.5</td>\n",
              "      <td>0.0</td>\n",
              "      <td>0.0</td>\n",
              "      <td>0.3</td>\n",
              "      <td>5.3</td>\n",
              "      <td>None</td>\n",
              "      <td>None</td>\n",
              "    </tr>\n",
              "    <tr>\n",
              "      <th>1</th>\n",
              "      <td>1</td>\n",
              "      <td>2016-03-01 00:15:13</td>\n",
              "      <td>2016-03-01 00:15:26</td>\n",
              "      <td>1</td>\n",
              "      <td>0.0</td>\n",
              "      <td>1</td>\n",
              "      <td>N</td>\n",
              "      <td>145</td>\n",
              "      <td>145</td>\n",
              "      <td>2</td>\n",
              "      <td>2.5</td>\n",
              "      <td>0.5</td>\n",
              "      <td>0.5</td>\n",
              "      <td>0.0</td>\n",
              "      <td>0.0</td>\n",
              "      <td>0.3</td>\n",
              "      <td>3.8</td>\n",
              "      <td>None</td>\n",
              "      <td>None</td>\n",
              "    </tr>\n",
              "    <tr>\n",
              "      <th>2</th>\n",
              "      <td>1</td>\n",
              "      <td>2016-03-01 00:15:46</td>\n",
              "      <td>2016-03-01 00:16:00</td>\n",
              "      <td>1</td>\n",
              "      <td>0.0</td>\n",
              "      <td>1</td>\n",
              "      <td>N</td>\n",
              "      <td>145</td>\n",
              "      <td>145</td>\n",
              "      <td>2</td>\n",
              "      <td>2.5</td>\n",
              "      <td>0.5</td>\n",
              "      <td>0.5</td>\n",
              "      <td>0.0</td>\n",
              "      <td>0.0</td>\n",
              "      <td>0.3</td>\n",
              "      <td>3.8</td>\n",
              "      <td>None</td>\n",
              "      <td>None</td>\n",
              "    </tr>\n",
              "    <tr>\n",
              "      <th>3</th>\n",
              "      <td>1</td>\n",
              "      <td>2016-03-01 00:16:17</td>\n",
              "      <td>2016-03-01 00:16:23</td>\n",
              "      <td>1</td>\n",
              "      <td>0.0</td>\n",
              "      <td>1</td>\n",
              "      <td>N</td>\n",
              "      <td>145</td>\n",
              "      <td>145</td>\n",
              "      <td>2</td>\n",
              "      <td>2.5</td>\n",
              "      <td>0.5</td>\n",
              "      <td>0.5</td>\n",
              "      <td>0.0</td>\n",
              "      <td>0.0</td>\n",
              "      <td>0.3</td>\n",
              "      <td>3.8</td>\n",
              "      <td>None</td>\n",
              "      <td>None</td>\n",
              "    </tr>\n",
              "    <tr>\n",
              "      <th>4</th>\n",
              "      <td>1</td>\n",
              "      <td>2016-03-01 00:16:45</td>\n",
              "      <td>2016-03-01 00:18:14</td>\n",
              "      <td>1</td>\n",
              "      <td>0.0</td>\n",
              "      <td>1</td>\n",
              "      <td>N</td>\n",
              "      <td>145</td>\n",
              "      <td>145</td>\n",
              "      <td>2</td>\n",
              "      <td>3.0</td>\n",
              "      <td>0.5</td>\n",
              "      <td>0.5</td>\n",
              "      <td>0.0</td>\n",
              "      <td>0.0</td>\n",
              "      <td>0.3</td>\n",
              "      <td>4.3</td>\n",
              "      <td>None</td>\n",
              "      <td>None</td>\n",
              "    </tr>\n",
              "  </tbody>\n",
              "</table>\n",
              "</div>\n",
              "      <button class=\"colab-df-convert\" onclick=\"convertToInteractive('df-f0f3ec11-6753-4cb0-bc2c-046d8e15d2b9')\"\n",
              "              title=\"Convert this dataframe to an interactive table.\"\n",
              "              style=\"display:none;\">\n",
              "\n",
              "  <svg xmlns=\"http://www.w3.org/2000/svg\" height=\"24px\"viewBox=\"0 0 24 24\"\n",
              "       width=\"24px\">\n",
              "    <path d=\"M0 0h24v24H0V0z\" fill=\"none\"/>\n",
              "    <path d=\"M18.56 5.44l.94 2.06.94-2.06 2.06-.94-2.06-.94-.94-2.06-.94 2.06-2.06.94zm-11 1L8.5 8.5l.94-2.06 2.06-.94-2.06-.94L8.5 2.5l-.94 2.06-2.06.94zm10 10l.94 2.06.94-2.06 2.06-.94-2.06-.94-.94-2.06-.94 2.06-2.06.94z\"/><path d=\"M17.41 7.96l-1.37-1.37c-.4-.4-.92-.59-1.43-.59-.52 0-1.04.2-1.43.59L10.3 9.45l-7.72 7.72c-.78.78-.78 2.05 0 2.83L4 21.41c.39.39.9.59 1.41.59.51 0 1.02-.2 1.41-.59l7.78-7.78 2.81-2.81c.8-.78.8-2.07 0-2.86zM5.41 20L4 18.59l7.72-7.72 1.47 1.35L5.41 20z\"/>\n",
              "  </svg>\n",
              "      </button>\n",
              "\n",
              "\n",
              "\n",
              "    <div id=\"df-b052ae07-3c1e-4d38-a20c-31ea5aece8b2\">\n",
              "      <button class=\"colab-df-quickchart\" onclick=\"quickchart('df-b052ae07-3c1e-4d38-a20c-31ea5aece8b2')\"\n",
              "              title=\"Suggest charts.\"\n",
              "              style=\"display:none;\">\n",
              "\n",
              "<svg xmlns=\"http://www.w3.org/2000/svg\" height=\"24px\"viewBox=\"0 0 24 24\"\n",
              "     width=\"24px\">\n",
              "    <g>\n",
              "        <path d=\"M19 3H5c-1.1 0-2 .9-2 2v14c0 1.1.9 2 2 2h14c1.1 0 2-.9 2-2V5c0-1.1-.9-2-2-2zM9 17H7v-7h2v7zm4 0h-2V7h2v10zm4 0h-2v-4h2v4z\"/>\n",
              "    </g>\n",
              "</svg>\n",
              "      </button>\n",
              "    </div>\n",
              "\n",
              "<style>\n",
              "  .colab-df-quickchart {\n",
              "    background-color: #E8F0FE;\n",
              "    border: none;\n",
              "    border-radius: 50%;\n",
              "    cursor: pointer;\n",
              "    display: none;\n",
              "    fill: #1967D2;\n",
              "    height: 32px;\n",
              "    padding: 0 0 0 0;\n",
              "    width: 32px;\n",
              "  }\n",
              "\n",
              "  .colab-df-quickchart:hover {\n",
              "    background-color: #E2EBFA;\n",
              "    box-shadow: 0px 1px 2px rgba(60, 64, 67, 0.3), 0px 1px 3px 1px rgba(60, 64, 67, 0.15);\n",
              "    fill: #174EA6;\n",
              "  }\n",
              "\n",
              "  [theme=dark] .colab-df-quickchart {\n",
              "    background-color: #3B4455;\n",
              "    fill: #D2E3FC;\n",
              "  }\n",
              "\n",
              "  [theme=dark] .colab-df-quickchart:hover {\n",
              "    background-color: #434B5C;\n",
              "    box-shadow: 0px 1px 3px 1px rgba(0, 0, 0, 0.15);\n",
              "    filter: drop-shadow(0px 1px 2px rgba(0, 0, 0, 0.3));\n",
              "    fill: #FFFFFF;\n",
              "  }\n",
              "</style>\n",
              "\n",
              "    <script>\n",
              "      async function quickchart(key) {\n",
              "        const containerElement = document.querySelector('#' + key);\n",
              "        const charts = await google.colab.kernel.invokeFunction(\n",
              "            'suggestCharts', [key], {});\n",
              "      }\n",
              "    </script>\n",
              "\n",
              "      <script>\n",
              "\n",
              "function displayQuickchartButton(domScope) {\n",
              "  let quickchartButtonEl =\n",
              "    domScope.querySelector('#df-b052ae07-3c1e-4d38-a20c-31ea5aece8b2 button.colab-df-quickchart');\n",
              "  quickchartButtonEl.style.display =\n",
              "    google.colab.kernel.accessAllowed ? 'block' : 'none';\n",
              "}\n",
              "\n",
              "        displayQuickchartButton(document);\n",
              "      </script>\n",
              "      <style>\n",
              "    .colab-df-container {\n",
              "      display:flex;\n",
              "      flex-wrap:wrap;\n",
              "      gap: 12px;\n",
              "    }\n",
              "\n",
              "    .colab-df-convert {\n",
              "      background-color: #E8F0FE;\n",
              "      border: none;\n",
              "      border-radius: 50%;\n",
              "      cursor: pointer;\n",
              "      display: none;\n",
              "      fill: #1967D2;\n",
              "      height: 32px;\n",
              "      padding: 0 0 0 0;\n",
              "      width: 32px;\n",
              "    }\n",
              "\n",
              "    .colab-df-convert:hover {\n",
              "      background-color: #E2EBFA;\n",
              "      box-shadow: 0px 1px 2px rgba(60, 64, 67, 0.3), 0px 1px 3px 1px rgba(60, 64, 67, 0.15);\n",
              "      fill: #174EA6;\n",
              "    }\n",
              "\n",
              "    [theme=dark] .colab-df-convert {\n",
              "      background-color: #3B4455;\n",
              "      fill: #D2E3FC;\n",
              "    }\n",
              "\n",
              "    [theme=dark] .colab-df-convert:hover {\n",
              "      background-color: #434B5C;\n",
              "      box-shadow: 0px 1px 3px 1px rgba(0, 0, 0, 0.15);\n",
              "      filter: drop-shadow(0px 1px 2px rgba(0, 0, 0, 0.3));\n",
              "      fill: #FFFFFF;\n",
              "    }\n",
              "  </style>\n",
              "\n",
              "      <script>\n",
              "        const buttonEl =\n",
              "          document.querySelector('#df-f0f3ec11-6753-4cb0-bc2c-046d8e15d2b9 button.colab-df-convert');\n",
              "        buttonEl.style.display =\n",
              "          google.colab.kernel.accessAllowed ? 'block' : 'none';\n",
              "\n",
              "        async function convertToInteractive(key) {\n",
              "          const element = document.querySelector('#df-f0f3ec11-6753-4cb0-bc2c-046d8e15d2b9');\n",
              "          const dataTable =\n",
              "            await google.colab.kernel.invokeFunction('convertToInteractive',\n",
              "                                                     [key], {});\n",
              "          if (!dataTable) return;\n",
              "\n",
              "          const docLinkHtml = 'Like what you see? Visit the ' +\n",
              "            '<a target=\"_blank\" href=https://colab.research.google.com/notebooks/data_table.ipynb>data table notebook</a>'\n",
              "            + ' to learn more about interactive tables.';\n",
              "          element.innerHTML = '';\n",
              "          dataTable['output_type'] = 'display_data';\n",
              "          await google.colab.output.renderOutput(dataTable, element);\n",
              "          const docLink = document.createElement('div');\n",
              "          docLink.innerHTML = docLinkHtml;\n",
              "          element.appendChild(docLink);\n",
              "        }\n",
              "      </script>\n",
              "    </div>\n",
              "  </div>\n"
            ]
          },
          "metadata": {},
          "execution_count": 5
        }
      ]
    },
    {
      "cell_type": "code",
      "source": [
        "frequency_count_pulocation=df['PULocationID'].value_counts()"
      ],
      "metadata": {
        "id": "ebZZvYfJjaEg"
      },
      "execution_count": 6,
      "outputs": []
    },
    {
      "cell_type": "code",
      "source": [
        "from pandas.core.generic import Frequency\n",
        "print(frequency_count_pulocation)"
      ],
      "metadata": {
        "colab": {
          "base_uri": "https://localhost:8080/"
        },
        "id": "9nsij_kxovXJ",
        "outputId": "5be4065c-d7be-4bc1-ad04-2fbed0cf8f1a"
      },
      "execution_count": 7,
      "outputs": [
        {
          "output_type": "stream",
          "name": "stdout",
          "text": [
            "161    457856\n",
            "237    443878\n",
            "162    415768\n",
            "186    414985\n",
            "234    411960\n",
            "        ...  \n",
            "187         2\n",
            "59          1\n",
            "103         1\n",
            "204         1\n",
            "84          1\n",
            "Name: PULocationID, Length: 262, dtype: int64\n"
          ]
        }
      ]
    },
    {
      "cell_type": "code",
      "source": [
        "df.info()"
      ],
      "metadata": {
        "colab": {
          "base_uri": "https://localhost:8080/"
        },
        "id": "1NE6sLzDoze6",
        "outputId": "25901349-9197-403a-df2b-d33857d8704d"
      },
      "execution_count": 8,
      "outputs": [
        {
          "output_type": "stream",
          "name": "stdout",
          "text": [
            "<class 'pandas.core.frame.DataFrame'>\n",
            "RangeIndex: 12203824 entries, 0 to 12203823\n",
            "Data columns (total 19 columns):\n",
            " #   Column                 Dtype         \n",
            "---  ------                 -----         \n",
            " 0   VendorID               int64         \n",
            " 1   tpep_pickup_datetime   datetime64[ns]\n",
            " 2   tpep_dropoff_datetime  datetime64[ns]\n",
            " 3   passenger_count        int64         \n",
            " 4   trip_distance          float64       \n",
            " 5   RatecodeID             int64         \n",
            " 6   store_and_fwd_flag     object        \n",
            " 7   PULocationID           int64         \n",
            " 8   DOLocationID           int64         \n",
            " 9   payment_type           int64         \n",
            " 10  fare_amount            float64       \n",
            " 11  extra                  float64       \n",
            " 12  mta_tax                float64       \n",
            " 13  tip_amount             float64       \n",
            " 14  tolls_amount           float64       \n",
            " 15  improvement_surcharge  float64       \n",
            " 16  total_amount           float64       \n",
            " 17  congestion_surcharge   object        \n",
            " 18  airport_fee            object        \n",
            "dtypes: datetime64[ns](2), float64(8), int64(6), object(3)\n",
            "memory usage: 1.7+ GB\n"
          ]
        }
      ]
    },
    {
      "cell_type": "code",
      "source": [
        "df.describe()"
      ],
      "metadata": {
        "colab": {
          "base_uri": "https://localhost:8080/",
          "height": 382
        },
        "id": "2jcxpNf7o3Xh",
        "outputId": "b6839a83-f9fe-4f9a-c1e8-8f0fc757ac7d"
      },
      "execution_count": 9,
      "outputs": [
        {
          "output_type": "execute_result",
          "data": {
            "text/plain": [
              "           VendorID  passenger_count  trip_distance    RatecodeID  \\\n",
              "count  1.220382e+07     1.220382e+07   1.220382e+07  1.220382e+07   \n",
              "mean   1.530679e+00     1.659803e+00   5.996823e+00  1.040293e+00   \n",
              "std    4.990579e-01     1.312403e+00   6.139841e+03  5.753225e-01   \n",
              "min    1.000000e+00     0.000000e+00   0.000000e+00  1.000000e+00   \n",
              "25%    1.000000e+00     1.000000e+00   1.000000e+00  1.000000e+00   \n",
              "50%    2.000000e+00     1.000000e+00   1.700000e+00  1.000000e+00   \n",
              "75%    2.000000e+00     2.000000e+00   3.180000e+00  1.000000e+00   \n",
              "max    2.000000e+00     9.000000e+00   1.907263e+07  9.900000e+01   \n",
              "\n",
              "       PULocationID  DOLocationID  payment_type   fare_amount         extra  \\\n",
              "count  1.220382e+07  1.220382e+07  1.220382e+07  1.220382e+07  1.220382e+07   \n",
              "mean   1.622378e+02  1.598973e+02  1.340664e+00  1.279809e+01  3.456233e-01   \n",
              "std    6.660513e+01  7.057642e+01  4.901522e-01  1.341351e+02  4.559850e-01   \n",
              "min    1.000000e+00  1.000000e+00  1.000000e+00 -3.760000e+02 -5.850000e+01   \n",
              "25%    1.130000e+02  1.070000e+02  1.000000e+00  6.500000e+00  0.000000e+00   \n",
              "50%    1.620000e+02  1.620000e+02  1.000000e+00  9.500000e+00  0.000000e+00   \n",
              "75%    2.320000e+02  2.330000e+02  2.000000e+00  1.450000e+01  5.000000e-01   \n",
              "max    2.650000e+02  2.650000e+02  4.000000e+00  4.294967e+05  8.000000e+01   \n",
              "\n",
              "            mta_tax    tip_amount  tolls_amount  improvement_surcharge  \\\n",
              "count  1.220382e+07  1.220382e+07  1.220382e+07           1.220382e+07   \n",
              "mean   4.976800e-01  1.793435e+00  3.153097e-01           2.997442e-01   \n",
              "std    4.834723e-02  2.549486e+00  1.751345e+00           1.200400e-02   \n",
              "min   -5.000000e-01 -2.000000e+01 -1.604000e+01          -3.000000e-01   \n",
              "25%    5.000000e-01  0.000000e+00  0.000000e+00           3.000000e-01   \n",
              "50%    5.000000e-01  1.350000e+00  0.000000e+00           3.000000e-01   \n",
              "75%    5.000000e-01  2.360000e+00  0.000000e+00           3.000000e-01   \n",
              "max    7.930000e+01  8.500000e+02  1.410320e+03           3.000000e-01   \n",
              "\n",
              "       total_amount  \n",
              "count  1.220382e+07  \n",
              "mean   1.604987e+01  \n",
              "std    1.343949e+02  \n",
              "min   -3.763000e+02  \n",
              "25%    8.750000e+00  \n",
              "50%    1.180000e+01  \n",
              "75%    1.776000e+01  \n",
              "max    4.295622e+05  "
            ],
            "text/html": [
              "\n",
              "\n",
              "  <div id=\"df-475d5ce0-5461-446d-90f6-d47eeed33cb7\">\n",
              "    <div class=\"colab-df-container\">\n",
              "      <div>\n",
              "<style scoped>\n",
              "    .dataframe tbody tr th:only-of-type {\n",
              "        vertical-align: middle;\n",
              "    }\n",
              "\n",
              "    .dataframe tbody tr th {\n",
              "        vertical-align: top;\n",
              "    }\n",
              "\n",
              "    .dataframe thead th {\n",
              "        text-align: right;\n",
              "    }\n",
              "</style>\n",
              "<table border=\"1\" class=\"dataframe\">\n",
              "  <thead>\n",
              "    <tr style=\"text-align: right;\">\n",
              "      <th></th>\n",
              "      <th>VendorID</th>\n",
              "      <th>passenger_count</th>\n",
              "      <th>trip_distance</th>\n",
              "      <th>RatecodeID</th>\n",
              "      <th>PULocationID</th>\n",
              "      <th>DOLocationID</th>\n",
              "      <th>payment_type</th>\n",
              "      <th>fare_amount</th>\n",
              "      <th>extra</th>\n",
              "      <th>mta_tax</th>\n",
              "      <th>tip_amount</th>\n",
              "      <th>tolls_amount</th>\n",
              "      <th>improvement_surcharge</th>\n",
              "      <th>total_amount</th>\n",
              "    </tr>\n",
              "  </thead>\n",
              "  <tbody>\n",
              "    <tr>\n",
              "      <th>count</th>\n",
              "      <td>1.220382e+07</td>\n",
              "      <td>1.220382e+07</td>\n",
              "      <td>1.220382e+07</td>\n",
              "      <td>1.220382e+07</td>\n",
              "      <td>1.220382e+07</td>\n",
              "      <td>1.220382e+07</td>\n",
              "      <td>1.220382e+07</td>\n",
              "      <td>1.220382e+07</td>\n",
              "      <td>1.220382e+07</td>\n",
              "      <td>1.220382e+07</td>\n",
              "      <td>1.220382e+07</td>\n",
              "      <td>1.220382e+07</td>\n",
              "      <td>1.220382e+07</td>\n",
              "      <td>1.220382e+07</td>\n",
              "    </tr>\n",
              "    <tr>\n",
              "      <th>mean</th>\n",
              "      <td>1.530679e+00</td>\n",
              "      <td>1.659803e+00</td>\n",
              "      <td>5.996823e+00</td>\n",
              "      <td>1.040293e+00</td>\n",
              "      <td>1.622378e+02</td>\n",
              "      <td>1.598973e+02</td>\n",
              "      <td>1.340664e+00</td>\n",
              "      <td>1.279809e+01</td>\n",
              "      <td>3.456233e-01</td>\n",
              "      <td>4.976800e-01</td>\n",
              "      <td>1.793435e+00</td>\n",
              "      <td>3.153097e-01</td>\n",
              "      <td>2.997442e-01</td>\n",
              "      <td>1.604987e+01</td>\n",
              "    </tr>\n",
              "    <tr>\n",
              "      <th>std</th>\n",
              "      <td>4.990579e-01</td>\n",
              "      <td>1.312403e+00</td>\n",
              "      <td>6.139841e+03</td>\n",
              "      <td>5.753225e-01</td>\n",
              "      <td>6.660513e+01</td>\n",
              "      <td>7.057642e+01</td>\n",
              "      <td>4.901522e-01</td>\n",
              "      <td>1.341351e+02</td>\n",
              "      <td>4.559850e-01</td>\n",
              "      <td>4.834723e-02</td>\n",
              "      <td>2.549486e+00</td>\n",
              "      <td>1.751345e+00</td>\n",
              "      <td>1.200400e-02</td>\n",
              "      <td>1.343949e+02</td>\n",
              "    </tr>\n",
              "    <tr>\n",
              "      <th>min</th>\n",
              "      <td>1.000000e+00</td>\n",
              "      <td>0.000000e+00</td>\n",
              "      <td>0.000000e+00</td>\n",
              "      <td>1.000000e+00</td>\n",
              "      <td>1.000000e+00</td>\n",
              "      <td>1.000000e+00</td>\n",
              "      <td>1.000000e+00</td>\n",
              "      <td>-3.760000e+02</td>\n",
              "      <td>-5.850000e+01</td>\n",
              "      <td>-5.000000e-01</td>\n",
              "      <td>-2.000000e+01</td>\n",
              "      <td>-1.604000e+01</td>\n",
              "      <td>-3.000000e-01</td>\n",
              "      <td>-3.763000e+02</td>\n",
              "    </tr>\n",
              "    <tr>\n",
              "      <th>25%</th>\n",
              "      <td>1.000000e+00</td>\n",
              "      <td>1.000000e+00</td>\n",
              "      <td>1.000000e+00</td>\n",
              "      <td>1.000000e+00</td>\n",
              "      <td>1.130000e+02</td>\n",
              "      <td>1.070000e+02</td>\n",
              "      <td>1.000000e+00</td>\n",
              "      <td>6.500000e+00</td>\n",
              "      <td>0.000000e+00</td>\n",
              "      <td>5.000000e-01</td>\n",
              "      <td>0.000000e+00</td>\n",
              "      <td>0.000000e+00</td>\n",
              "      <td>3.000000e-01</td>\n",
              "      <td>8.750000e+00</td>\n",
              "    </tr>\n",
              "    <tr>\n",
              "      <th>50%</th>\n",
              "      <td>2.000000e+00</td>\n",
              "      <td>1.000000e+00</td>\n",
              "      <td>1.700000e+00</td>\n",
              "      <td>1.000000e+00</td>\n",
              "      <td>1.620000e+02</td>\n",
              "      <td>1.620000e+02</td>\n",
              "      <td>1.000000e+00</td>\n",
              "      <td>9.500000e+00</td>\n",
              "      <td>0.000000e+00</td>\n",
              "      <td>5.000000e-01</td>\n",
              "      <td>1.350000e+00</td>\n",
              "      <td>0.000000e+00</td>\n",
              "      <td>3.000000e-01</td>\n",
              "      <td>1.180000e+01</td>\n",
              "    </tr>\n",
              "    <tr>\n",
              "      <th>75%</th>\n",
              "      <td>2.000000e+00</td>\n",
              "      <td>2.000000e+00</td>\n",
              "      <td>3.180000e+00</td>\n",
              "      <td>1.000000e+00</td>\n",
              "      <td>2.320000e+02</td>\n",
              "      <td>2.330000e+02</td>\n",
              "      <td>2.000000e+00</td>\n",
              "      <td>1.450000e+01</td>\n",
              "      <td>5.000000e-01</td>\n",
              "      <td>5.000000e-01</td>\n",
              "      <td>2.360000e+00</td>\n",
              "      <td>0.000000e+00</td>\n",
              "      <td>3.000000e-01</td>\n",
              "      <td>1.776000e+01</td>\n",
              "    </tr>\n",
              "    <tr>\n",
              "      <th>max</th>\n",
              "      <td>2.000000e+00</td>\n",
              "      <td>9.000000e+00</td>\n",
              "      <td>1.907263e+07</td>\n",
              "      <td>9.900000e+01</td>\n",
              "      <td>2.650000e+02</td>\n",
              "      <td>2.650000e+02</td>\n",
              "      <td>4.000000e+00</td>\n",
              "      <td>4.294967e+05</td>\n",
              "      <td>8.000000e+01</td>\n",
              "      <td>7.930000e+01</td>\n",
              "      <td>8.500000e+02</td>\n",
              "      <td>1.410320e+03</td>\n",
              "      <td>3.000000e-01</td>\n",
              "      <td>4.295622e+05</td>\n",
              "    </tr>\n",
              "  </tbody>\n",
              "</table>\n",
              "</div>\n",
              "      <button class=\"colab-df-convert\" onclick=\"convertToInteractive('df-475d5ce0-5461-446d-90f6-d47eeed33cb7')\"\n",
              "              title=\"Convert this dataframe to an interactive table.\"\n",
              "              style=\"display:none;\">\n",
              "\n",
              "  <svg xmlns=\"http://www.w3.org/2000/svg\" height=\"24px\"viewBox=\"0 0 24 24\"\n",
              "       width=\"24px\">\n",
              "    <path d=\"M0 0h24v24H0V0z\" fill=\"none\"/>\n",
              "    <path d=\"M18.56 5.44l.94 2.06.94-2.06 2.06-.94-2.06-.94-.94-2.06-.94 2.06-2.06.94zm-11 1L8.5 8.5l.94-2.06 2.06-.94-2.06-.94L8.5 2.5l-.94 2.06-2.06.94zm10 10l.94 2.06.94-2.06 2.06-.94-2.06-.94-.94-2.06-.94 2.06-2.06.94z\"/><path d=\"M17.41 7.96l-1.37-1.37c-.4-.4-.92-.59-1.43-.59-.52 0-1.04.2-1.43.59L10.3 9.45l-7.72 7.72c-.78.78-.78 2.05 0 2.83L4 21.41c.39.39.9.59 1.41.59.51 0 1.02-.2 1.41-.59l7.78-7.78 2.81-2.81c.8-.78.8-2.07 0-2.86zM5.41 20L4 18.59l7.72-7.72 1.47 1.35L5.41 20z\"/>\n",
              "  </svg>\n",
              "      </button>\n",
              "\n",
              "\n",
              "\n",
              "    <div id=\"df-b0a4a987-9a27-4b68-9014-0895f8b1ac86\">\n",
              "      <button class=\"colab-df-quickchart\" onclick=\"quickchart('df-b0a4a987-9a27-4b68-9014-0895f8b1ac86')\"\n",
              "              title=\"Suggest charts.\"\n",
              "              style=\"display:none;\">\n",
              "\n",
              "<svg xmlns=\"http://www.w3.org/2000/svg\" height=\"24px\"viewBox=\"0 0 24 24\"\n",
              "     width=\"24px\">\n",
              "    <g>\n",
              "        <path d=\"M19 3H5c-1.1 0-2 .9-2 2v14c0 1.1.9 2 2 2h14c1.1 0 2-.9 2-2V5c0-1.1-.9-2-2-2zM9 17H7v-7h2v7zm4 0h-2V7h2v10zm4 0h-2v-4h2v4z\"/>\n",
              "    </g>\n",
              "</svg>\n",
              "      </button>\n",
              "    </div>\n",
              "\n",
              "<style>\n",
              "  .colab-df-quickchart {\n",
              "    background-color: #E8F0FE;\n",
              "    border: none;\n",
              "    border-radius: 50%;\n",
              "    cursor: pointer;\n",
              "    display: none;\n",
              "    fill: #1967D2;\n",
              "    height: 32px;\n",
              "    padding: 0 0 0 0;\n",
              "    width: 32px;\n",
              "  }\n",
              "\n",
              "  .colab-df-quickchart:hover {\n",
              "    background-color: #E2EBFA;\n",
              "    box-shadow: 0px 1px 2px rgba(60, 64, 67, 0.3), 0px 1px 3px 1px rgba(60, 64, 67, 0.15);\n",
              "    fill: #174EA6;\n",
              "  }\n",
              "\n",
              "  [theme=dark] .colab-df-quickchart {\n",
              "    background-color: #3B4455;\n",
              "    fill: #D2E3FC;\n",
              "  }\n",
              "\n",
              "  [theme=dark] .colab-df-quickchart:hover {\n",
              "    background-color: #434B5C;\n",
              "    box-shadow: 0px 1px 3px 1px rgba(0, 0, 0, 0.15);\n",
              "    filter: drop-shadow(0px 1px 2px rgba(0, 0, 0, 0.3));\n",
              "    fill: #FFFFFF;\n",
              "  }\n",
              "</style>\n",
              "\n",
              "    <script>\n",
              "      async function quickchart(key) {\n",
              "        const containerElement = document.querySelector('#' + key);\n",
              "        const charts = await google.colab.kernel.invokeFunction(\n",
              "            'suggestCharts', [key], {});\n",
              "      }\n",
              "    </script>\n",
              "\n",
              "      <script>\n",
              "\n",
              "function displayQuickchartButton(domScope) {\n",
              "  let quickchartButtonEl =\n",
              "    domScope.querySelector('#df-b0a4a987-9a27-4b68-9014-0895f8b1ac86 button.colab-df-quickchart');\n",
              "  quickchartButtonEl.style.display =\n",
              "    google.colab.kernel.accessAllowed ? 'block' : 'none';\n",
              "}\n",
              "\n",
              "        displayQuickchartButton(document);\n",
              "      </script>\n",
              "      <style>\n",
              "    .colab-df-container {\n",
              "      display:flex;\n",
              "      flex-wrap:wrap;\n",
              "      gap: 12px;\n",
              "    }\n",
              "\n",
              "    .colab-df-convert {\n",
              "      background-color: #E8F0FE;\n",
              "      border: none;\n",
              "      border-radius: 50%;\n",
              "      cursor: pointer;\n",
              "      display: none;\n",
              "      fill: #1967D2;\n",
              "      height: 32px;\n",
              "      padding: 0 0 0 0;\n",
              "      width: 32px;\n",
              "    }\n",
              "\n",
              "    .colab-df-convert:hover {\n",
              "      background-color: #E2EBFA;\n",
              "      box-shadow: 0px 1px 2px rgba(60, 64, 67, 0.3), 0px 1px 3px 1px rgba(60, 64, 67, 0.15);\n",
              "      fill: #174EA6;\n",
              "    }\n",
              "\n",
              "    [theme=dark] .colab-df-convert {\n",
              "      background-color: #3B4455;\n",
              "      fill: #D2E3FC;\n",
              "    }\n",
              "\n",
              "    [theme=dark] .colab-df-convert:hover {\n",
              "      background-color: #434B5C;\n",
              "      box-shadow: 0px 1px 3px 1px rgba(0, 0, 0, 0.15);\n",
              "      filter: drop-shadow(0px 1px 2px rgba(0, 0, 0, 0.3));\n",
              "      fill: #FFFFFF;\n",
              "    }\n",
              "  </style>\n",
              "\n",
              "      <script>\n",
              "        const buttonEl =\n",
              "          document.querySelector('#df-475d5ce0-5461-446d-90f6-d47eeed33cb7 button.colab-df-convert');\n",
              "        buttonEl.style.display =\n",
              "          google.colab.kernel.accessAllowed ? 'block' : 'none';\n",
              "\n",
              "        async function convertToInteractive(key) {\n",
              "          const element = document.querySelector('#df-475d5ce0-5461-446d-90f6-d47eeed33cb7');\n",
              "          const dataTable =\n",
              "            await google.colab.kernel.invokeFunction('convertToInteractive',\n",
              "                                                     [key], {});\n",
              "          if (!dataTable) return;\n",
              "\n",
              "          const docLinkHtml = 'Like what you see? Visit the ' +\n",
              "            '<a target=\"_blank\" href=https://colab.research.google.com/notebooks/data_table.ipynb>data table notebook</a>'\n",
              "            + ' to learn more about interactive tables.';\n",
              "          element.innerHTML = '';\n",
              "          dataTable['output_type'] = 'display_data';\n",
              "          await google.colab.output.renderOutput(dataTable, element);\n",
              "          const docLink = document.createElement('div');\n",
              "          docLink.innerHTML = docLinkHtml;\n",
              "          element.appendChild(docLink);\n",
              "        }\n",
              "      </script>\n",
              "    </div>\n",
              "  </div>\n"
            ]
          },
          "metadata": {},
          "execution_count": 9
        }
      ]
    },
    {
      "cell_type": "code",
      "source": [
        "df['trip_distance'].value_counts().sort_values(ascending=False)"
      ],
      "metadata": {
        "colab": {
          "base_uri": "https://localhost:8080/"
        },
        "id": "MJPgrmEHo9TZ",
        "outputId": "7cc0098f-858c-4fc0-9544-d832d5e9cb93"
      },
      "execution_count": 13,
      "outputs": [
        {
          "output_type": "execute_result",
          "data": {
            "text/plain": [
              "0.90     278131\n",
              "1.00     275106\n",
              "0.80     274426\n",
              "1.10     263175\n",
              "0.70     258743\n",
              "          ...  \n",
              "33.71         1\n",
              "47.58         1\n",
              "37.17         1\n",
              "42.68         1\n",
              "47.67         1\n",
              "Name: trip_distance, Length: 4498, dtype: int64"
            ]
          },
          "metadata": {},
          "execution_count": 13
        }
      ]
    },
    {
      "cell_type": "code",
      "source": [
        "df['PULocationID'].value_counts().sort_values(ascending=False)"
      ],
      "metadata": {
        "colab": {
          "base_uri": "https://localhost:8080/"
        },
        "id": "npWIA4OepM_p",
        "outputId": "f1344a7a-3b0e-46d0-edb9-7370247ab1ca"
      },
      "execution_count": 14,
      "outputs": [
        {
          "output_type": "execute_result",
          "data": {
            "text/plain": [
              "161    457856\n",
              "237    443878\n",
              "162    415768\n",
              "186    414985\n",
              "234    411960\n",
              "        ...  \n",
              "187         2\n",
              "59          1\n",
              "103         1\n",
              "204         1\n",
              "84          1\n",
              "Name: PULocationID, Length: 262, dtype: int64"
            ]
          },
          "metadata": {},
          "execution_count": 14
        }
      ]
    },
    {
      "cell_type": "code",
      "source": [
        "df.shape"
      ],
      "metadata": {
        "colab": {
          "base_uri": "https://localhost:8080/"
        },
        "id": "aWhbIbWdqP6x",
        "outputId": "f3bcb3bd-8703-4403-b362-b2e5b4cadc68"
      },
      "execution_count": 18,
      "outputs": [
        {
          "output_type": "execute_result",
          "data": {
            "text/plain": [
              "(12203824, 19)"
            ]
          },
          "metadata": {},
          "execution_count": 18
        }
      ]
    },
    {
      "cell_type": "code",
      "source": [
        "location=df.stack['PULocationID','DOLocationID']"
      ],
      "metadata": {
        "colab": {
          "base_uri": "https://localhost:8080/",
          "height": 175
        },
        "id": "W5nYPhexqjRA",
        "outputId": "ea6aa3bf-f5d9-423f-984f-427f6c24bfa8"
      },
      "execution_count": 20,
      "outputs": [
        {
          "output_type": "error",
          "ename": "TypeError",
          "evalue": "ignored",
          "traceback": [
            "\u001b[0;31m---------------------------------------------------------------------------\u001b[0m",
            "\u001b[0;31mTypeError\u001b[0m                                 Traceback (most recent call last)",
            "\u001b[0;32m<ipython-input-20-da3dc7027527>\u001b[0m in \u001b[0;36m<cell line: 1>\u001b[0;34m()\u001b[0m\n\u001b[0;32m----> 1\u001b[0;31m \u001b[0mlocation\u001b[0m\u001b[0;34m=\u001b[0m\u001b[0mdf\u001b[0m\u001b[0;34m.\u001b[0m\u001b[0mstack\u001b[0m\u001b[0;34m[\u001b[0m\u001b[0;34m'PULocationID'\u001b[0m\u001b[0;34m,\u001b[0m\u001b[0;34m'DOLocationID'\u001b[0m\u001b[0;34m]\u001b[0m\u001b[0;34m\u001b[0m\u001b[0;34m\u001b[0m\u001b[0m\n\u001b[0m",
            "\u001b[0;31mTypeError\u001b[0m: 'method' object is not subscriptable"
          ]
        }
      ]
    },
    {
      "cell_type": "code",
      "source": [
        "location=['PULocationID','DOLocationID']"
      ],
      "metadata": {
        "id": "DRPNLkNHrkja"
      },
      "execution_count": 21,
      "outputs": []
    },
    {
      "cell_type": "code",
      "source": [
        "values=df[location].melt(value_name='Stacked_Columns')['Stacked_Columns']"
      ],
      "metadata": {
        "id": "q7WCUVI2r7Op"
      },
      "execution_count": 22,
      "outputs": []
    },
    {
      "cell_type": "code",
      "source": [
        "frequency_count=values.value_counts().sort_values(ascending=False)"
      ],
      "metadata": {
        "id": "4-cgnD5osQIB"
      },
      "execution_count": 25,
      "outputs": []
    },
    {
      "cell_type": "code",
      "source": [
        "pd.reset_option('display.max_rows')\n",
        "pd.set_option('display.max_rows', None)"
      ],
      "metadata": {
        "id": "fvE6cCaNsrti"
      },
      "execution_count": 31,
      "outputs": []
    },
    {
      "cell_type": "code",
      "source": [
        "frequency_count"
      ],
      "metadata": {
        "colab": {
          "base_uri": "https://localhost:8080/"
        },
        "id": "fN33NcNNsU_S",
        "outputId": "0272d097-6484-408a-cb2c-8ce3bb0bad41"
      },
      "execution_count": 32,
      "outputs": [
        {
          "output_type": "execute_result",
          "data": {
            "text/plain": [
              "161    918880\n",
              "237    831910\n",
              "236    809033\n",
              "170    791410\n",
              "162    784172\n",
              "230    776635\n",
              "234    764012\n",
              "186    754492\n",
              "79     712904\n",
              "48     701551\n",
              "163    624882\n",
              "142    619118\n",
              "107    575179\n",
              "68     571461\n",
              "164    570363\n",
              "239    562013\n",
              "141    555278\n",
              "249    476063\n",
              "231    454101\n",
              "138    450122\n",
              "238    440665\n",
              "229    435426\n",
              "90     431217\n",
              "140    425790\n",
              "100    422473\n",
              "263    417850\n",
              "113    396929\n",
              "246    396129\n",
              "132    358038\n",
              "264    351334\n",
              "233    344031\n",
              "137    323949\n",
              "148    323709\n",
              "114    323328\n",
              "158    291258\n",
              "262    290799\n",
              "43     276847\n",
              "50     273324\n",
              "144    269259\n",
              "143    259750\n",
              "13     233023\n",
              "211    218341\n",
              "75     213419\n",
              "87     196038\n",
              "151    190025\n",
              "166    153122\n",
              "125    138339\n",
              "74     130978\n",
              "41     117266\n",
              "261    112665\n",
              "4      102620\n",
              "88     101556\n",
              "224     94488\n",
              "7       85536\n",
              "232     82194\n",
              "24      74603\n",
              "42      72673\n",
              "255     66342\n",
              "181     65723\n",
              "256     61206\n",
              "45      60591\n",
              "244     58744\n",
              "226     57867\n",
              "145     54158\n",
              "209     52976\n",
              "33      51119\n",
              "116     49024\n",
              "112     47046\n",
              "65      40790\n",
              "80      38801\n",
              "223     37863\n",
              "97      37808\n",
              "25      37784\n",
              "265     35593\n",
              "49      34384\n",
              "152     33546\n",
              "61      32643\n",
              "37      31263\n",
              "17      30905\n",
              "129     28455\n",
              "179     27435\n",
              "146     27230\n",
              "243     26603\n",
              "66      23621\n",
              "260     23504\n",
              "40      22101\n",
              "1       19959\n",
              "189     19628\n",
              "225     19601\n",
              "52      18607\n",
              "95      17949\n",
              "36      17835\n",
              "82      14843\n",
              "89      13305\n",
              "188     12772\n",
              "12      12561\n",
              "168     12102\n",
              "193     11948\n",
              "127     11583\n",
              "14      11181\n",
              "228     10694\n",
              "106     10187\n",
              "198      8838\n",
              "83       7586\n",
              "62       7545\n",
              "257      7490\n",
              "247      7137\n",
              "202      7117\n",
              "217      6372\n",
              "70       5851\n",
              "69       5837\n",
              "196      5803\n",
              "92       5715\n",
              "195      5677\n",
              "10       5645\n",
              "157      5335\n",
              "220      5218\n",
              "216      5157\n",
              "133      4721\n",
              "54       4581\n",
              "159      4558\n",
              "160      4170\n",
              "200      4043\n",
              "130      3864\n",
              "173      3863\n",
              "56       3690\n",
              "28       3592\n",
              "177      3545\n",
              "76       3544\n",
              "134      3395\n",
              "227      3313\n",
              "26       3085\n",
              "190      3032\n",
              "119      2942\n",
              "197      2894\n",
              "135      2873\n",
              "22       2782\n",
              "165      2765\n",
              "235      2707\n",
              "169      2658\n",
              "85       2648\n",
              "219      2477\n",
              "258      2471\n",
              "39       2416\n",
              "71       2391\n",
              "241      2348\n",
              "167      2336\n",
              "72       2318\n",
              "91       2278\n",
              "67       2172\n",
              "35       2158\n",
              "18       2122\n",
              "121      2064\n",
              "93       2019\n",
              "102      2010\n",
              "123      2005\n",
              "213      1913\n",
              "34       1894\n",
              "215      1850\n",
              "259      1807\n",
              "136      1806\n",
              "182      1795\n",
              "174      1751\n",
              "16       1716\n",
              "171      1689\n",
              "131      1685\n",
              "126      1660\n",
              "208      1644\n",
              "21       1639\n",
              "185      1625\n",
              "212      1585\n",
              "252      1574\n",
              "149      1559\n",
              "147      1540\n",
              "63       1507\n",
              "242      1498\n",
              "248      1482\n",
              "194      1477\n",
              "47       1471\n",
              "210      1467\n",
              "20       1435\n",
              "155      1431\n",
              "178      1410\n",
              "191      1389\n",
              "78       1324\n",
              "250      1233\n",
              "98       1209\n",
              "53       1205\n",
              "205      1201\n",
              "192      1179\n",
              "124      1176\n",
              "29       1171\n",
              "122      1147\n",
              "218      1145\n",
              "254      1126\n",
              "77       1116\n",
              "55       1101\n",
              "180      1053\n",
              "94       1017\n",
              "11       1014\n",
              "203       989\n",
              "32        969\n",
              "15        954\n",
              "51        946\n",
              "175       942\n",
              "207       916\n",
              "64        840\n",
              "153       822\n",
              "60        820\n",
              "128       793\n",
              "73        756\n",
              "120       751\n",
              "139       750\n",
              "3         741\n",
              "108       720\n",
              "9         712\n",
              "183       691\n",
              "221       686\n",
              "38        665\n",
              "150       664\n",
              "101       627\n",
              "19        597\n",
              "86        595\n",
              "81        575\n",
              "117       542\n",
              "115       523\n",
              "31        511\n",
              "57        494\n",
              "240       448\n",
              "201       432\n",
              "222       398\n",
              "8         387\n",
              "6         369\n",
              "206       314\n",
              "58        307\n",
              "96        278\n",
              "118       221\n",
              "23        221\n",
              "214       203\n",
              "251       192\n",
              "111       185\n",
              "46        181\n",
              "172       154\n",
              "245       136\n",
              "154       135\n",
              "109       123\n",
              "156       104\n",
              "184       103\n",
              "27         98\n",
              "59         89\n",
              "84         83\n",
              "253        72\n",
              "176        67\n",
              "5          64\n",
              "204        62\n",
              "2          60\n",
              "30         56\n",
              "187        54\n",
              "44         51\n",
              "105        41\n",
              "99         25\n",
              "199         4\n",
              "103         1\n",
              "Name: Stacked_Columns, dtype: int64"
            ]
          },
          "metadata": {},
          "execution_count": 32
        }
      ]
    },
    {
      "cell_type": "code",
      "source": [
        "fc=df['airport_fee'].value_counts().sort_values(ascending=False)"
      ],
      "metadata": {
        "id": "KbghzhoHsWzx"
      },
      "execution_count": 39,
      "outputs": []
    },
    {
      "cell_type": "code",
      "source": [
        "print(fc)"
      ],
      "metadata": {
        "colab": {
          "base_uri": "https://localhost:8080/"
        },
        "id": "O2o4APB3ubxM",
        "outputId": "0da5bbf3-30d7-42ba-c1e2-131286f812e2"
      },
      "execution_count": 40,
      "outputs": [
        {
          "output_type": "stream",
          "name": "stdout",
          "text": [
            "Series([], Name: airport_fee, dtype: int64)\n"
          ]
        }
      ]
    },
    {
      "cell_type": "code",
      "source": [
        "df['airport_fee'].unique()"
      ],
      "metadata": {
        "colab": {
          "base_uri": "https://localhost:8080/"
        },
        "id": "Sminz_28u8il",
        "outputId": "9c9c51cb-7a8a-4426-a6ef-4206a192b034"
      },
      "execution_count": 43,
      "outputs": [
        {
          "output_type": "execute_result",
          "data": {
            "text/plain": [
              "array([None], dtype=object)"
            ]
          },
          "metadata": {},
          "execution_count": 43
        }
      ]
    },
    {
      "cell_type": "code",
      "source": [
        "df['congestion_surcharge'].unique()"
      ],
      "metadata": {
        "colab": {
          "base_uri": "https://localhost:8080/"
        },
        "id": "wX55IDtmvkW0",
        "outputId": "6be5d2e5-b32c-4566-bd7c-54a404d43a9e"
      },
      "execution_count": 44,
      "outputs": [
        {
          "output_type": "execute_result",
          "data": {
            "text/plain": [
              "array([None], dtype=object)"
            ]
          },
          "metadata": {},
          "execution_count": 44
        }
      ]
    },
    {
      "cell_type": "code",
      "source": [
        "df['store_and_fwd_flag'].unique()"
      ],
      "metadata": {
        "colab": {
          "base_uri": "https://localhost:8080/"
        },
        "id": "ye8ZjS8kysHr",
        "outputId": "3c2dd69d-5471-42cd-c06e-36ecaf28752d"
      },
      "execution_count": 46,
      "outputs": [
        {
          "output_type": "execute_result",
          "data": {
            "text/plain": [
              "array(['N', 'Y'], dtype=object)"
            ]
          },
          "metadata": {},
          "execution_count": 46
        }
      ]
    },
    {
      "cell_type": "code",
      "source": [
        "df['payment_type'].unique()"
      ],
      "metadata": {
        "colab": {
          "base_uri": "https://localhost:8080/"
        },
        "id": "CF5qwgF9yxjD",
        "outputId": "4fd84e0f-aa8d-49fe-8a51-1c9470a63272"
      },
      "execution_count": 47,
      "outputs": [
        {
          "output_type": "execute_result",
          "data": {
            "text/plain": [
              "array([3, 2, 1, 4])"
            ]
          },
          "metadata": {},
          "execution_count": 47
        }
      ]
    },
    {
      "cell_type": "code",
      "source": [
        "df['payment_type'].value_counts()"
      ],
      "metadata": {
        "colab": {
          "base_uri": "https://localhost:8080/"
        },
        "id": "9gqQ5NuO0one",
        "outputId": "eefac159-720d-47c7-c296-a0de02f15cf9"
      },
      "execution_count": 49,
      "outputs": [
        {
          "output_type": "execute_result",
          "data": {
            "text/plain": [
              "1    8125613\n",
              "2    4015250\n",
              "3      46733\n",
              "4      16228\n",
              "Name: payment_type, dtype: int64"
            ]
          },
          "metadata": {},
          "execution_count": 49
        }
      ]
    },
    {
      "cell_type": "code",
      "source": [
        "df['extra'].value_counts()"
      ],
      "metadata": {
        "colab": {
          "base_uri": "https://localhost:8080/"
        },
        "id": "8-0kwFg80sBL",
        "outputId": "9f284ade-5b19-407c-d3c2-9679bba529c7"
      },
      "execution_count": 50,
      "outputs": [
        {
          "output_type": "execute_result",
          "data": {
            "text/plain": [
              " 0.00     6149110\n",
              " 0.50     3999341\n",
              " 1.00     2005496\n",
              " 4.50       47546\n",
              "-0.50        1520\n",
              "-1.00         602\n",
              "-4.50          79\n",
              " 5.50          31\n",
              " 1.50          29\n",
              " 0.02          14\n",
              " 4.54           7\n",
              " 4.72           6\n",
              " 2.00           4\n",
              " 1.23           3\n",
              " 0.01           3\n",
              " 3.00           2\n",
              " 8.00           2\n",
              "-0.45           2\n",
              " 65.53          2\n",
              " 0.11           2\n",
              " 0.22           2\n",
              " 2.50           2\n",
              " 0.30           1\n",
              " 0.05           1\n",
              " 4.00           1\n",
              "-0.40           1\n",
              " 0.20           1\n",
              " 5.00           1\n",
              " 2.60           1\n",
              "-41.70          1\n",
              "-2.60           1\n",
              " 0.80           1\n",
              " 16.38          1\n",
              " 28.00          1\n",
              " 6.50           1\n",
              " 1.30           1\n",
              " 4.61           1\n",
              "-58.50          1\n",
              " 40.40          1\n",
              "-11.20          1\n",
              " 80.00          1\n",
              "Name: extra, dtype: int64"
            ]
          },
          "metadata": {},
          "execution_count": 50
        }
      ]
    },
    {
      "cell_type": "code",
      "source": [],
      "metadata": {
        "id": "NmRcEiwM1QSM"
      },
      "execution_count": null,
      "outputs": []
    }
  ]
}